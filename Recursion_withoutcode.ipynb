{
 "cells": [
  {
   "cell_type": "markdown",
   "id": "6edfcf90",
   "metadata": {
    "id": "6edfcf90"
   },
   "source": [
    "<center><h1>RECURSION</h1></center>\n",
    "\n",
    "A recursive function solves a particular problem by calling a copy of itself and solving smaller subproblems of the original problems.\n",
    "\n",
    "<img src=\"https://thevaluable.dev/images/2020/recursion/recursion.jpg\" width=\"600px\" height=\"400px\" />"
   ]
  },
  {
   "cell_type": "markdown",
   "id": "3s-guPanrW9z",
   "metadata": {
    "id": "3s-guPanrW9z"
   },
   "source": [
    "## **`WATCH VIDEOS IN THE PORTAL`**"
   ]
  },
  {
   "cell_type": "markdown",
   "id": "313039dd",
   "metadata": {
    "id": "313039dd"
   },
   "source": [
    "## Problems"
   ]
  },
  {
   "cell_type": "markdown",
   "id": "fccf9699",
   "metadata": {
    "id": "fccf9699"
   },
   "source": [
    "### Problem-1\n",
    "\n",
    "Given an integer n, compute the sum of n numbers using recursion.\n",
    "\n",
    "<b>Input:</b> 5<br/>\n",
    "<b>Output:</b> 15"
   ]
  },
  {
   "cell_type": "markdown",
   "id": "TwCBjvUxrRxJ",
   "metadata": {
    "id": "TwCBjvUxrRxJ"
   },
   "source": [
    "### **`Watch Solved Problem 1: Sum of All Numbers`**"
   ]
  },
  {
   "cell_type": "code",
   "execution_count": 1,
   "id": "03556728",
   "metadata": {
    "id": "03556728"
   },
   "outputs": [],
   "source": [
    "def compute_sum(n):\n",
    "    \n",
    "    # base case\n",
    "    if (n==0):\n",
    "        return 0\n",
    "    \n",
    "    # reccurence function\n",
    "    \n",
    "    return n + compute_sum(n-1)"
   ]
  },
  {
   "cell_type": "code",
   "execution_count": 2,
   "id": "c700b829",
   "metadata": {
    "id": "c700b829",
    "outputId": "469bd229-a679-44fe-a5d8-0e8b2f25d040"
   },
   "outputs": [
    {
     "data": {
      "text/plain": [
       "15"
      ]
     },
     "execution_count": 2,
     "metadata": {},
     "output_type": "execute_result"
    }
   ],
   "source": [
    "# call the function with value 5\n",
    "\n",
    "compute_sum(5)\n"
   ]
  },
  {
   "cell_type": "code",
   "execution_count": 3,
   "id": "8619494a",
   "metadata": {
    "id": "8619494a",
    "outputId": "3a1eabc9-c226-47b0-f8a6-d2444e0ede8c"
   },
   "outputs": [
    {
     "data": {
      "text/plain": [
       "55"
      ]
     },
     "execution_count": 3,
     "metadata": {},
     "output_type": "execute_result"
    }
   ],
   "source": [
    "# call the function with value 10\n",
    "\n",
    "compute_sum(10)\n"
   ]
  },
  {
   "cell_type": "markdown",
   "id": "64946f14",
   "metadata": {
    "id": "64946f14"
   },
   "source": [
    "### Problem-2\n",
    "\n",
    "Write a function to generate the nth fibonacci number.\n",
    "\n",
    "<b>Input:</b> 5<br/>\n",
    "<b>Output:</b> 5 \n",
    "\n",
    "<b>Input:</b> 10<br/>\n",
    "<b>Output:</b> 55 "
   ]
  },
  {
   "cell_type": "markdown",
   "id": "-okzfjtprfWA",
   "metadata": {
    "id": "-okzfjtprfWA"
   },
   "source": [
    "### **`Watch Solved Problem 2: Nth Fibonacci Number`**"
   ]
  },
  {
   "cell_type": "code",
   "execution_count": 10,
   "id": "2e3d263a",
   "metadata": {
    "id": "2e3d263a"
   },
   "outputs": [],
   "source": [
    "def fibonacci(n):\n",
    "    \n",
    "    # base case\n",
    "    if n <=1:\n",
    "        return n\n",
    "     \n",
    "    # recurrence function\n",
    "    \n",
    "    return  fibonacci(n-1) + fibonacci(n-2)\n",
    "    "
   ]
  },
  {
   "cell_type": "code",
   "execution_count": 11,
   "id": "59def8c0",
   "metadata": {
    "id": "59def8c0",
    "outputId": "ff9fe3ee-e494-44dd-c699-37100752a9c6"
   },
   "outputs": [
    {
     "data": {
      "text/plain": [
       "5"
      ]
     },
     "execution_count": 11,
     "metadata": {},
     "output_type": "execute_result"
    }
   ],
   "source": [
    "# call fibonacci with value 5\n",
    "\n",
    "fibonacci(5)"
   ]
  },
  {
   "cell_type": "code",
   "execution_count": 12,
   "id": "e55d7fee",
   "metadata": {
    "id": "e55d7fee",
    "outputId": "f1d46bc7-101d-4da5-f627-361301f2928d"
   },
   "outputs": [
    {
     "data": {
      "text/plain": [
       "55"
      ]
     },
     "execution_count": 12,
     "metadata": {},
     "output_type": "execute_result"
    }
   ],
   "source": [
    "# call fibonacci with value 10\n",
    "\n",
    "fibonacci(10)\n"
   ]
  },
  {
   "cell_type": "markdown",
   "id": "cc0d8adb",
   "metadata": {
    "id": "cc0d8adb"
   },
   "source": [
    "### Problem-3\n",
    "\n",
    "Write a function using recursion that takes an array as input and returns a reversed array.\n",
    "\n",
    "<b>Input:</b> [1,2,3,4,5]<br/>\n",
    "<b>Output:</b> [5,4,3,2,1]"
   ]
  },
  {
   "cell_type": "markdown",
   "id": "GVoo5Vu5r5-j",
   "metadata": {
    "id": "GVoo5Vu5r5-j"
   },
   "source": [
    "### **`Watch Solved Problem 3: Reversed Array`**"
   ]
  },
  {
   "cell_type": "code",
   "execution_count": 29,
   "id": "8e3d41e4",
   "metadata": {
    "id": "8e3d41e4"
   },
   "outputs": [],
   "source": [
    "def helper(array, left, right):\n",
    "    \n",
    "    # base case\n",
    "    \n",
    "    if left>=right:\n",
    "        return None\n",
    "\n",
    "    # performing swap\n",
    "    \n",
    "    array[left],array[right] = array[right],array[left]\n",
    "    \n",
    "    # recurrence function\n",
    "    helper(array,left+1,right-1)\n",
    "    \n",
    "def reverse_array(array):\n",
    "    # assign n equal to length of array\n",
    "    n = len(array)\n",
    "    # assign left as 0\n",
    "    left = 0\n",
    "    # assign right as n-1\n",
    "    right = n-1\n",
    "    \n",
    "    # defining a helper function\n",
    "    helper(array,left,right)\n",
    "    \n",
    "    # return array\n",
    "    return array"
   ]
  },
  {
   "cell_type": "code",
   "execution_count": 30,
   "id": "77ddad9a",
   "metadata": {
    "id": "77ddad9a",
    "outputId": "e4d371c7-68b6-4a65-e669-0e3e00af17be"
   },
   "outputs": [
    {
     "data": {
      "text/plain": [
       "[5, 4, 3, 2, 1]"
      ]
     },
     "execution_count": 30,
     "metadata": {},
     "output_type": "execute_result"
    }
   ],
   "source": [
    "# call reverse array with an array [1,2,3,4,5]\n",
    "\n",
    "reverse_array([1,2,3,4,5])\n"
   ]
  },
  {
   "cell_type": "code",
   "execution_count": 31,
   "id": "c2f4f138",
   "metadata": {
    "id": "c2f4f138",
    "outputId": "e7f1d474-758c-40f4-a927-a61c4c35f52f"
   },
   "outputs": [
    {
     "data": {
      "text/plain": [
       "[18, 10, 4, 6, 12, 10]"
      ]
     },
     "execution_count": 31,
     "metadata": {},
     "output_type": "execute_result"
    }
   ],
   "source": [
    "# call reverse array with an array [10,12,6,4,10,18]\n",
    "\n",
    "reverse_array([10,12,6,4,10,18])\n",
    "\n"
   ]
  },
  {
   "cell_type": "markdown",
   "id": "54462794",
   "metadata": {
    "id": "54462794"
   },
   "source": [
    "### Problem-4\n",
    "\n",
    "Given an array, print all the subsequences for that array. (The susequences can be in any order)\n",
    "\n",
    "<b>Input: </b>[3,1,2]<br/>\n",
    "<b>Output: </b> [[], [2], [1], [1,2], [3], [3,2], [3,1], [3,1,2]]"
   ]
  },
  {
   "cell_type": "markdown",
   "id": "qQiRB0E8r_9n",
   "metadata": {
    "id": "qQiRB0E8r_9n"
   },
   "source": [
    "### **`Watch Solved Problem 4: Subsequence`**"
   ]
  },
  {
   "cell_type": "code",
   "execution_count": 33,
   "id": "fc2e7d32",
   "metadata": {
    "id": "fc2e7d32"
   },
   "outputs": [],
   "source": [
    "def helper(index, l, n, ds):\n",
    "    \n",
    "    # base case\n",
    "    if index==n:\n",
    "        print(ds)\n",
    "        return None\n",
    "    \n",
    "\n",
    "    \n",
    "    # pick case(first append l[index] and the call helper)\n",
    "    \n",
    "    ds.append(l[index])\n",
    "    helper(index+1,l,n,ds)\n",
    "    ds.pop()\n",
    "    \n",
    "    # not pick case(first pop and then call helper)\n",
    "    \n",
    "    helper(index+1,l,n,ds)\n",
    "\n",
    "def print_subsequences(l):\n",
    "    \n",
    "    # store the length of the list\n",
    "    n = len(l)\n",
    "    # assign ds an empty list\n",
    "    ds = []\n",
    "    \n",
    "    # call helper function\n",
    "    \n",
    "    helper(0,l,n,ds)"
   ]
  },
  {
   "cell_type": "code",
   "execution_count": 34,
   "id": "efab746f",
   "metadata": {
    "id": "efab746f",
    "outputId": "c4f32ff6-fa91-41f3-8496-57b5331658de"
   },
   "outputs": [
    {
     "name": "stdout",
     "output_type": "stream",
     "text": [
      "[3, 1, 2]\n",
      "[3, 1]\n",
      "[3, 2]\n",
      "[3]\n",
      "[1, 2]\n",
      "[1]\n",
      "[2]\n",
      "[]\n"
     ]
    }
   ],
   "source": [
    "# call print subsequences with values [3, 1, 2]\n",
    "\n",
    "print_subsequences([3, 1, 2])\n"
   ]
  },
  {
   "cell_type": "code",
   "execution_count": 35,
   "id": "b2e13900",
   "metadata": {
    "id": "b2e13900",
    "outputId": "397992f6-79e8-4fc0-ffd5-9b59c8b95658",
    "scrolled": true
   },
   "outputs": [
    {
     "name": "stdout",
     "output_type": "stream",
     "text": [
      "[100, 200, 300, 400]\n",
      "[100, 200, 300]\n",
      "[100, 200, 400]\n",
      "[100, 200]\n",
      "[100, 300, 400]\n",
      "[100, 300]\n",
      "[100, 400]\n",
      "[100]\n",
      "[200, 300, 400]\n",
      "[200, 300]\n",
      "[200, 400]\n",
      "[200]\n",
      "[300, 400]\n",
      "[300]\n",
      "[400]\n",
      "[]\n"
     ]
    }
   ],
   "source": [
    "# call print subsequences with values [100, 200, 300, 400]\n",
    "\n",
    "print_subsequences([100, 200, 300, 400])\n",
    "\n"
   ]
  },
  {
   "cell_type": "markdown",
   "id": "6252b53f",
   "metadata": {
    "id": "6252b53f"
   },
   "source": [
    "### Problem - 5\n",
    "\n",
    "Given an array of distinct integers and a target, you have to return the list of all unique combinations where the chosen numbers sum to target. You may return the combinations in any order.\n",
    "\n",
    "The same number may be chosen from the given array an unlimited number of times. Two combinations are unique if the frequency of at least one of the chosen numbers is different.\n",
    "\n",
    "It is guaranteed that the number of unique combinations that sum up to target is less than 150 combinations for the given input.\n",
    "\n",
    "<b>Input:</b> candidates = [2,3,6,7], target = 7<br/>\n",
    "<b>Output:</b><br/> \n",
    "[2,2,3]<br/>\n",
    "[7]"
   ]
  },
  {
   "cell_type": "markdown",
   "id": "AC-W51CEsa4L",
   "metadata": {
    "id": "AC-W51CEsa4L"
   },
   "source": [
    "### **`Watch Solved Problem 5: Unique Combination`**"
   ]
  },
  {
   "cell_type": "code",
   "execution_count": 36,
   "id": "56cd9852",
   "metadata": {
    "id": "56cd9852"
   },
   "outputs": [],
   "source": [
    "ds =[]\n",
    "def helper(index, candidates, target):\n",
    "    \n",
    "    # base case\n",
    "    \n",
    "    if index==len(candidates):\n",
    "        if target==0:\n",
    "            print(ds)\n",
    "        return None\n",
    "    \n",
    "    # pick case\n",
    "    \n",
    "    if candidates[index]<=target:\n",
    "        ds.append(candidates[index])\n",
    "        helper(index,candidates,target-candidates[index])\n",
    "        ds.pop()\n",
    "    \n",
    "    \n",
    "    # not pick case\n",
    "    \n",
    "    helper(index+1,candidates,target)\n",
    "    \n",
    "\n",
    "def combinationSum(candidates, target):\n",
    "    \n",
    "    # call helper function\n",
    "    \n",
    "    helper(0,candidates,target)\n",
    "    "
   ]
  },
  {
   "cell_type": "code",
   "execution_count": 37,
   "id": "158bbf2d",
   "metadata": {
    "id": "158bbf2d",
    "outputId": "23630d70-51b6-4794-d89f-83b7d1f13427"
   },
   "outputs": [
    {
     "name": "stdout",
     "output_type": "stream",
     "text": [
      "[2, 2, 3]\n",
      "[7]\n"
     ]
    }
   ],
   "source": [
    "# call combinationsum with candidates=[2,3,6,7] and target=7\n",
    "\n",
    "combinationSum([2,3,6,7],7)\n"
   ]
  },
  {
   "cell_type": "code",
   "execution_count": 38,
   "id": "c8ac560c",
   "metadata": {
    "id": "c8ac560c",
    "outputId": "9fbc2dce-78c5-40b4-f724-ad6bf5c8e464"
   },
   "outputs": [
    {
     "name": "stdout",
     "output_type": "stream",
     "text": [
      "[2, 2, 2, 2]\n",
      "[2, 3, 3]\n",
      "[3, 5]\n"
     ]
    }
   ],
   "source": [
    "# call combinationsum with candidates=[2,3,5] and target=8\n",
    "\n",
    "combinationSum([2,3,5],8)\n"
   ]
  },
  {
   "cell_type": "markdown",
   "id": "0d526126",
   "metadata": {
    "id": "0d526126"
   },
   "source": [
    "### Problem-6\n",
    "\n",
    "Given an array nums of distinct integers, return all the possible permutations. You can return the answer in any order.\n",
    "\n",
    "<b>Input:</b> nums = [1,2,3]<br/>\n",
    "<b>Output:</b><br/>\n",
    "[1,2,3]<br/>\n",
    "[1,3,2]<br/>\n",
    "[2,1,3]<br/>\n",
    "[2,3,1]<br/>\n",
    "[3,1,2]<br/>\n",
    "[3,2,1]<br/>\n",
    "\n",
    "<b>Input:</b> nums = [0,1]<br/>\n",
    "<b>Output:</b><br/>\n",
    "[0,1]<br/>\n",
    "[1,0]\n",
    "\n",
    "<b>Input:</b> nums = [1]<br/>\n",
    "<b>Output:</b><br/>\n",
    "[1]"
   ]
  },
  {
   "cell_type": "markdown",
   "id": "_puwbP2msm87",
   "metadata": {
    "id": "_puwbP2msm87"
   },
   "source": [
    "### **`Watch Solved Problem 6: Possible Permutation`**"
   ]
  },
  {
   "cell_type": "code",
   "execution_count": 41,
   "id": "add13fa1",
   "metadata": {
    "id": "add13fa1"
   },
   "outputs": [],
   "source": [
    "ds=[]\n",
    "def helper(nums, n, freq, ds):\n",
    "    \n",
    "    # base case\n",
    "    \n",
    "    if len(ds)==n:\n",
    "        print(ds)\n",
    "        return None \n",
    "\n",
    "\n",
    "    # iterating over each index and if that index is not considered\n",
    "    # then consider it under permutation and call recursively\n",
    "    \n",
    "    for i in range(n):\n",
    "        if freq[i]!=1:\n",
    "            freq[i]=1\n",
    "            ds.append(nums[i])\n",
    "            helper(nums,n,freq,ds)\n",
    "            freq[i]=0\n",
    "            ds.pop()\n",
    "\n",
    "def generate_permutations(nums):\n",
    "    # save length of nums in n\n",
    "    n = len(nums)\n",
    "    # loop over range of n and create an array of zeros\n",
    "    freq = [0 for _ in range(n)]\n",
    "    # call helper function\n",
    "    helper(nums, n, freq, ds)\n",
    "    \n",
    "    \n",
    "    "
   ]
  },
  {
   "cell_type": "code",
   "execution_count": 42,
   "id": "6472f191",
   "metadata": {
    "id": "6472f191",
    "outputId": "86f327de-c7e6-46f1-cf33-7d3323ea1e87"
   },
   "outputs": [
    {
     "name": "stdout",
     "output_type": "stream",
     "text": [
      "[1, 2, 3]\n",
      "[1, 3, 2]\n",
      "[2, 1, 3]\n",
      "[2, 3, 1]\n",
      "[3, 1, 2]\n",
      "[3, 2, 1]\n"
     ]
    }
   ],
   "source": [
    "# call generate permutations with values [1,2,3]\n",
    "\n",
    "\n",
    "generate_permutations([1,2,3])"
   ]
  },
  {
   "cell_type": "code",
   "execution_count": 43,
   "id": "d6879574",
   "metadata": {
    "id": "d6879574",
    "outputId": "29a04db9-8687-480e-9c93-081243685a99"
   },
   "outputs": [
    {
     "name": "stdout",
     "output_type": "stream",
     "text": [
      "[0, 1]\n",
      "[1, 0]\n"
     ]
    }
   ],
   "source": [
    "# call generate permutations with values [0, 1]\n",
    "\n",
    "generate_permutations([0,1])\n"
   ]
  },
  {
   "cell_type": "code",
   "execution_count": 44,
   "id": "b5b2d390",
   "metadata": {
    "id": "b5b2d390",
    "outputId": "ff358c64-07ed-46e0-d47d-a2f67a1e80a8"
   },
   "outputs": [
    {
     "name": "stdout",
     "output_type": "stream",
     "text": [
      "[1]\n"
     ]
    }
   ],
   "source": [
    "# call generate permutations with values [1]\n",
    "\n",
    "\n",
    "generate_permutations([1])"
   ]
  },
  {
   "cell_type": "markdown",
   "id": "91166cba",
   "metadata": {
    "id": "91166cba"
   },
   "source": [
    "## Unsolved Problems"
   ]
  },
  {
   "cell_type": "markdown",
   "id": "3e440c36",
   "metadata": {
    "id": "3e440c36"
   },
   "source": [
    "### Problem-1\n",
    "\n",
    "Print the fiven string n number of times using recursion.\n",
    "\n",
    "<b>Input:</b> name=\"sam\", n=4<br/>\n",
    "<b>Output:</b><br/>\n",
    "sam<br/>\n",
    "sam<br/>\n",
    "sam<br/>\n",
    "sam<br/>"
   ]
  },
  {
   "cell_type": "code",
   "execution_count": 2,
   "id": "e43e410e",
   "metadata": {
    "id": "e43e410e"
   },
   "outputs": [],
   "source": [
    "def print_n_names(name, n):\n",
    "    \n",
    "    \n",
    "    # code below\n",
    "    if n==0:\n",
    "        return \n",
    "    print(name)\n",
    "    print_n_names(name, n-1)\n",
    "    "
   ]
  },
  {
   "cell_type": "code",
   "execution_count": 3,
   "id": "16d2fac3",
   "metadata": {
    "id": "16d2fac3",
    "outputId": "5c8a8417-01d9-4fec-c277-356ea379df5f"
   },
   "outputs": [
    {
     "name": "stdout",
     "output_type": "stream",
     "text": [
      "sam\n",
      "sam\n",
      "sam\n",
      "sam\n"
     ]
    }
   ],
   "source": [
    "# call print n names function with name \"sam\" and n=4\n",
    "\n",
    "print_n_names(\"sam\",4)\n"
   ]
  },
  {
   "cell_type": "code",
   "execution_count": 5,
   "id": "fd18c459",
   "metadata": {
    "id": "fd18c459",
    "outputId": "51cb4594-46b3-4daf-8777-fba6300255bf",
    "scrolled": true
   },
   "outputs": [
    {
     "name": "stdout",
     "output_type": "stream",
     "text": [
      "dean\n",
      "dean\n",
      "dean\n",
      "dean\n",
      "dean\n",
      "dean\n"
     ]
    }
   ],
   "source": [
    "# call print n names function with name \"dean\" and n=6\n",
    "\n",
    "\n",
    "print_n_names(\"dean\",6)\n"
   ]
  },
  {
   "cell_type": "markdown",
   "id": "cbaa6d05",
   "metadata": {
    "id": "cbaa6d05"
   },
   "source": [
    "### Problem-2\n",
    "\n",
    "Given a string, write a recurrence function to check whether the input is pallindrome or not.\n",
    "\n",
    "<b>Input:</b> \"madam\"<br/>\n",
    "<b>Output:</b> True\n",
    "\n",
    "<b>Input:</b> \"bob\"<br/>\n",
    "<b>Output:</b> True\n",
    "\n",
    "<b>Input:</b> \"cobbler\"<br/>\n",
    "<b>Output:</b> False"
   ]
  },
  {
   "cell_type": "code",
   "execution_count": 6,
   "id": "41de24b9",
   "metadata": {
    "id": "41de24b9"
   },
   "outputs": [],
   "source": [
    "def helper(string, left, right):\n",
    "    \n",
    "    if left>right:\n",
    "        return True\n",
    "\n",
    "    if string[left]!=string[right]:\n",
    "        return False\n",
    "    \n",
    "    return helper(string,left+1,right-1)\n",
    "\n",
    "def pallindrome(string):\n",
    "    # code below\n",
    "    n = len(string)\n",
    "    return helper(string,0,n-1)"
   ]
  },
  {
   "cell_type": "code",
   "execution_count": 7,
   "id": "8c05b45e",
   "metadata": {
    "id": "8c05b45e",
    "outputId": "7b6b2b32-280f-487c-8652-2ecff63b28de"
   },
   "outputs": [
    {
     "data": {
      "text/plain": [
       "True"
      ]
     },
     "execution_count": 7,
     "metadata": {},
     "output_type": "execute_result"
    }
   ],
   "source": [
    "# call palindrome with value \"madam\"\n",
    "\n",
    "pallindrome(\"madam\")\n"
   ]
  },
  {
   "cell_type": "code",
   "execution_count": 8,
   "id": "da2dfdf9",
   "metadata": {
    "id": "da2dfdf9",
    "outputId": "ac7ba394-3e36-4502-adda-aae45af8fcaa"
   },
   "outputs": [
    {
     "data": {
      "text/plain": [
       "True"
      ]
     },
     "execution_count": 8,
     "metadata": {},
     "output_type": "execute_result"
    }
   ],
   "source": [
    "# call palindrome with value \"bob\"\n",
    "pallindrome(\"bob\")\n",
    "\n"
   ]
  },
  {
   "cell_type": "code",
   "execution_count": 9,
   "id": "dafa0414",
   "metadata": {
    "id": "dafa0414",
    "outputId": "8c3ea028-eca5-4e65-c9cd-0887725d857b"
   },
   "outputs": [
    {
     "data": {
      "text/plain": [
       "False"
      ]
     },
     "execution_count": 9,
     "metadata": {},
     "output_type": "execute_result"
    }
   ],
   "source": [
    "# call palindrome with value \"cobbler\"\n",
    "\n",
    "pallindrome(\"cobbler\")\n"
   ]
  },
  {
   "cell_type": "markdown",
   "id": "7e88b14e",
   "metadata": {
    "id": "7e88b14e"
   },
   "source": [
    "### Problem-3\n",
    "\n",
    "Given a list arr of N integers, print sums of all subsets in it.\n",
    "\n",
    "<b>Input:</b>n=2, arr={2,3}<br/>\n",
    "<b>Output:</b> [5, 2, 3, 0]\n",
    "\n",
    "<b>Input:</b>n=3, arr={5, 2, 1}<br/>\n",
    "<b>Output:</b> [8, 7, 6, 5, 3, 2, 1, 0]"
   ]
  },
  {
   "cell_type": "code",
   "execution_count": 22,
   "id": "ec597fc3",
   "metadata": {
    "id": "ec597fc3"
   },
   "outputs": [],
   "source": [
    "def helper(index, total_sum, arr, n, ans):\n",
    "    \n",
    "    \n",
    "    # code below\n",
    "    if index==n:\n",
    "        ans.append(total_sum)\n",
    "        return None\n",
    "       \n",
    "    # pick\n",
    "    total_sum +=arr[index]\n",
    "    helper(index+1,total_sum+arr[index],arr,n,ans)\n",
    "#     total_sum -=arr[index]\n",
    "    \n",
    "    # not pick\n",
    "    \n",
    "    helper(index+1,total_sum,arr,n,ans)\n",
    "\n",
    "def subset_sum(arr, n):\n",
    "    # code below\n",
    "    \n",
    "    ans = []\n",
    "    \n",
    "    helper(0,0,arr,n,ans)\n",
    "    return ans"
   ]
  },
  {
   "cell_type": "code",
   "execution_count": 23,
   "id": "9c7b82b1",
   "metadata": {
    "id": "9c7b82b1",
    "outputId": "6798558e-c5fd-4356-abb0-25e210d2b2f3"
   },
   "outputs": [
    {
     "data": {
      "text/plain": [
       "[10, 7, 8, 5]"
      ]
     },
     "execution_count": 23,
     "metadata": {},
     "output_type": "execute_result"
    }
   ],
   "source": [
    "# call subset with arr=[2,3], and n  2\n",
    "\n",
    "subset_sum([2,3],2)\n"
   ]
  },
  {
   "cell_type": "code",
   "execution_count": 24,
   "id": "fcb7971f",
   "metadata": {
    "id": "fcb7971f",
    "outputId": "abff814f-d3b4-4ca6-b6e4-b43d712cf283"
   },
   "outputs": [
    {
     "data": {
      "text/plain": [
       "[16, 15, 14, 13, 11, 10, 9, 8]"
      ]
     },
     "execution_count": 24,
     "metadata": {},
     "output_type": "execute_result"
    }
   ],
   "source": [
    "# call subset with arr = [5,2,1], n = 3\n",
    "\n",
    "subset_sum([5,2,1],3)\n"
   ]
  },
  {
   "cell_type": "markdown",
   "id": "977e8d80",
   "metadata": {
    "id": "977e8d80"
   },
   "source": [
    "### Problem-4\n",
    "\n",
    "Write a recursive function to calculate the factorial for a number.\n",
    "\n",
    "<b>Input:</b> 5<br/>\n",
    "<b>Output:</b> 120"
   ]
  },
  {
   "cell_type": "code",
   "execution_count": 25,
   "id": "0d6d073d",
   "metadata": {
    "id": "0d6d073d"
   },
   "outputs": [],
   "source": [
    "def factorial(n):\n",
    "    \n",
    "    # code below\n",
    "    \n",
    "    if n<=1:\n",
    "        return 1\n",
    "    \n",
    "    \n",
    "    return n*factorial(n-1)\n",
    "\n",
    "\n",
    "\n",
    "\n",
    "    "
   ]
  },
  {
   "cell_type": "code",
   "execution_count": 26,
   "id": "98ec66e7",
   "metadata": {
    "id": "98ec66e7",
    "outputId": "d59e9a00-6aa8-4a4e-ebf9-52aff3c7803a"
   },
   "outputs": [
    {
     "data": {
      "text/plain": [
       "120"
      ]
     },
     "execution_count": 26,
     "metadata": {},
     "output_type": "execute_result"
    }
   ],
   "source": [
    "# call factorial(5)\n",
    "factorial(5)\n"
   ]
  },
  {
   "cell_type": "code",
   "execution_count": 27,
   "id": "1bcbe863",
   "metadata": {
    "id": "1bcbe863",
    "outputId": "2675458b-4917-490e-ca70-faf2ff6bb96b"
   },
   "outputs": [
    {
     "data": {
      "text/plain": [
       "479001600"
      ]
     },
     "execution_count": 27,
     "metadata": {},
     "output_type": "execute_result"
    }
   ],
   "source": [
    "# call factorial(12)\n",
    "\n",
    "\n",
    "factorial(12)"
   ]
  },
  {
   "cell_type": "code",
   "execution_count": null,
   "id": "2f739b00",
   "metadata": {},
   "outputs": [],
   "source": []
  }
 ],
 "metadata": {
  "colab": {
   "collapsed_sections": [],
   "provenance": []
  },
  "kernelspec": {
   "display_name": "Python 3 (ipykernel)",
   "language": "python",
   "name": "python3"
  },
  "language_info": {
   "codemirror_mode": {
    "name": "ipython",
    "version": 3
   },
   "file_extension": ".py",
   "mimetype": "text/x-python",
   "name": "python",
   "nbconvert_exporter": "python",
   "pygments_lexer": "ipython3",
   "version": "3.9.13"
  }
 },
 "nbformat": 4,
 "nbformat_minor": 5
}
