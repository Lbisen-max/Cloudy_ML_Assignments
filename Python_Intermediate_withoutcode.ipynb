{
 "cells": [
  {
   "cell_type": "markdown",
   "metadata": {
    "id": "4GtRwPajWtgH"
   },
   "source": [
    "# <center><u> Python-Intermediate </u></center>\n"
   ]
  },
  {
   "cell_type": "markdown",
   "metadata": {
    "id": "qnfR62KaWtgM"
   },
   "source": [
    "Here you can start digging into our intermediate-level programming questions that will teach you new Python concepts. This category is for intermediate Python developers who already know the basics of Python development and want to expand their knowledge.\n",
    "\n",
    "\n",
    "\n",
    "Becoming a Python expert takes time, but over time you’ll master this beautiful programming language. It’s worth it! \n",
    "\n",
    "\n",
    "So lets get started!"
   ]
  },
  {
   "cell_type": "markdown",
   "metadata": {
    "id": "aKVNKhLP9W8E"
   },
   "source": [
    "## **`WATCH VIDEOS IN THE PORTAL`**"
   ]
  },
  {
   "cell_type": "markdown",
   "metadata": {
    "id": "3ay5QkyG9Ay2"
   },
   "source": [
    "### **`Watch Video 15: Python Intermediate Tutorial`**"
   ]
  },
  {
   "cell_type": "markdown",
   "metadata": {
    "id": "hBV6jA72WtgM"
   },
   "source": [
    "1.Lets remove duplicates from list names=['A','B','C','A','D','E','F','G','H','E','D']\n",
    "\n"
   ]
  },
  {
   "cell_type": "code",
   "execution_count": 11,
   "metadata": {
    "id": "A32nJBGHWtgN",
    "outputId": "12f6a820-828c-4f16-a258-03db3728ec18"
   },
   "outputs": [
    {
     "name": "stdout",
     "output_type": "stream",
     "text": [
      "['A', 'B', 'C', 'D', 'E', 'F', 'G', 'H']\n"
     ]
    }
   ],
   "source": [
    "#code here\n",
    "\n",
    "l = ['A','B','C','A','D','E','F','G','H','E','D']\n",
    "\n",
    "ans=[]\n",
    "for element in l:\n",
    "    if element not in ans:\n",
    "        ans.append(element)\n",
    "          \n",
    "print(ans)"
   ]
  },
  {
   "cell_type": "markdown",
   "metadata": {
    "id": "3vs-MwqhWtgO"
   },
   "source": [
    "2. Good! Shall we try solving above problem in shhorter way using list comprehention? It will be amazing. Here we go!\n"
   ]
  },
  {
   "cell_type": "code",
   "execution_count": 6,
   "metadata": {
    "id": "ngy_ypU2WtgP",
    "outputId": "1bd12296-1677-4f28-d444-0e707f1be6a3"
   },
   "outputs": [
    {
     "name": "stdout",
     "output_type": "stream",
     "text": [
      "['A', 'B', 'C', 'D', 'E', 'F', 'G', 'H']\n"
     ]
    }
   ],
   "source": [
    "#code here\n",
    "l = ['A','B','C','A','D','E','F','G','H','E','D']\n",
    "ans=[]\n",
    "sort=[ans.append(i) for i in l if i not in ans]\n",
    "print(ans)"
   ]
  },
  {
   "cell_type": "markdown",
   "metadata": {
    "id": "kuBGT9n5WtgP"
   },
   "source": [
    "3. define a funtion 'occurence' which takes 2 inputs, one list 'lst' and another one a number 'n' and count the number of occurrences of n in your list lst."
   ]
  },
  {
   "cell_type": "code",
   "execution_count": 8,
   "metadata": {
    "id": "W8SL5qfUWtgQ",
    "outputId": "1edf5081-4a50-4857-f1e6-05ad8ea4d4b5"
   },
   "outputs": [
    {
     "data": {
      "text/plain": [
       "4"
      ]
     },
     "execution_count": 8,
     "metadata": {},
     "output_type": "execute_result"
    }
   ],
   "source": [
    "#your code\n",
    "def occurence(l,n):\n",
    "    count = 0\n",
    "    for i in l:\n",
    "        if n==i:\n",
    "            count+=1\n",
    "    return count\n",
    "\n",
    "#lets use your function\n",
    "occurence([2,3,4,8,1,3,5,2,1,3,1,2,2], 2)"
   ]
  },
  {
   "cell_type": "markdown",
   "metadata": {
    "id": "vzaaHEIwWtgQ"
   },
   "source": [
    "4. Calculate factorial of a number ( Here number=3) using while loop"
   ]
  },
  {
   "cell_type": "code",
   "execution_count": 10,
   "metadata": {
    "id": "3zjPibDmWtgR",
    "outputId": "ede6a1c7-bf80-4923-85da-2d680f5e34a2"
   },
   "outputs": [
    {
     "data": {
      "text/plain": [
       "6"
      ]
     },
     "execution_count": 10,
     "metadata": {},
     "output_type": "execute_result"
    }
   ],
   "source": [
    "number = 3\n",
    "#code here\n",
    "def fectorial(n):\n",
    "    ans = 1\n",
    "    for i in range(1,n+1):\n",
    "        ans *=i\n",
    "    return ans\n",
    "    \n",
    "fectorial(3)"
   ]
  },
  {
   "cell_type": "markdown",
   "metadata": {
    "id": "8d4D4cJpWtgR"
   },
   "source": [
    "5. Reverse a given integer number num = 47594038222 and display the count of total number of digits in your revered number using while loop."
   ]
  },
  {
   "cell_type": "code",
   "execution_count": 24,
   "metadata": {
    "id": "L5Vs4xTtWtgR",
    "outputId": "0ab87e7c-17d5-45d2-8509-9c5295fa3c62"
   },
   "outputs": [
    {
     "name": "stdout",
     "output_type": "stream",
     "text": [
      "reverse val is 22283049574 and count of total 11\n"
     ]
    }
   ],
   "source": [
    "#code here\n",
    "num = 47594038222 \n",
    "rev = 0\n",
    "while num>0:\n",
    "    rev = (rev*10)+num%10\n",
    "    num=num//10\n",
    "print(\"reverse val is {} and count of total {}\".format(rev,len(str(rev))))"
   ]
  },
  {
   "cell_type": "markdown",
   "metadata": {
    "id": "9qtxFvU2WtgR"
   },
   "source": [
    "6. Can you reverse you given num without using loop in just one line?\n",
    "\n",
    "Hint: apply some slicing trick to do it."
   ]
  },
  {
   "cell_type": "code",
   "execution_count": 27,
   "metadata": {
    "id": "p1eS62ecWtgS",
    "outputId": "f78f5888-362f-4e9c-da11-2071f635414b"
   },
   "outputs": [
    {
     "name": "stdout",
     "output_type": "stream",
     "text": [
      "22283049574\n"
     ]
    }
   ],
   "source": [
    "num = 47594038222\n",
    "\n",
    "#one line code here\n",
    "l=str(num)[::-1]\n",
    "print(l)"
   ]
  },
  {
   "cell_type": "markdown",
   "metadata": {
    "id": "hurM8KcSWtgS"
   },
   "source": [
    "7. Write a function that checks whether a given sequence of number is IP address or not and print all valid possible IP from a given digit. If not an IP then it prints empty list\n",
    "\n",
    "**Note:** According to Wikipedia, IPv4 addresses are canonically represented in dot-decimal notation, which consists of four decimal numbers, each ranging from 0 to 255, separated by dots, e.g., 172.16.254.1"
   ]
  },
  {
   "cell_type": "markdown",
   "metadata": {
    "id": "_7itjOoi9hII"
   },
   "source": [
    "### **`WATCH VIDEO 16: IP Address Problem`**"
   ]
  },
  {
   "cell_type": "code",
   "execution_count": 3,
   "metadata": {
    "id": "oNIW7VyFWtgS",
    "outputId": "0bce6af6-36bb-4a75-9c9d-13c7bd589291"
   },
   "outputs": [
    {
     "name": "stdout",
     "output_type": "stream",
     "text": [
      "2.5.5.25511135\n",
      "2.5.52.5511135\n",
      "2.5.525.511135\n",
      "2.5.5255.11135\n",
      "2.5.52551.1135\n",
      "2.5.525511.135\n",
      "2.5.5255111.35\n",
      "2.5.52551113.5\n",
      "2.55.2.5511135\n",
      "2.55.25.511135\n",
      "2.55.255.11135\n",
      "2.55.2551.1135\n",
      "2.55.25511.135\n",
      "2.55.255111.35\n",
      "2.55.2551113.5\n",
      "2.552.5.511135\n",
      "2.552.55.11135\n",
      "2.552.551.1135\n",
      "2.552.5511.135\n",
      "2.552.55111.35\n",
      "2.552.551113.5\n",
      "2.5525.5.11135\n",
      "2.5525.51.1135\n",
      "2.5525.511.135\n",
      "2.5525.5111.35\n",
      "2.5525.51113.5\n",
      "2.55255.1.1135\n",
      "2.55255.11.135\n",
      "2.55255.111.35\n",
      "2.55255.1113.5\n",
      "2.552551.1.135\n",
      "2.552551.11.35\n",
      "2.552551.113.5\n",
      "2.5525511.1.35\n",
      "2.5525511.13.5\n",
      "2.55255111.3.5\n",
      "25.5.2.5511135\n",
      "25.5.25.511135\n",
      "25.5.255.11135\n",
      "25.5.2551.1135\n",
      "25.5.25511.135\n",
      "25.5.255111.35\n",
      "25.5.2551113.5\n",
      "25.52.5.511135\n",
      "25.52.55.11135\n",
      "25.52.551.1135\n",
      "25.52.5511.135\n",
      "25.52.55111.35\n",
      "25.52.551113.5\n",
      "25.525.5.11135\n",
      "25.525.51.1135\n",
      "25.525.511.135\n",
      "25.525.5111.35\n",
      "25.525.51113.5\n",
      "25.5255.1.1135\n",
      "25.5255.11.135\n",
      "25.5255.111.35\n",
      "25.5255.1113.5\n",
      "25.52551.1.135\n",
      "25.52551.11.35\n",
      "25.52551.113.5\n",
      "25.525511.1.35\n",
      "25.525511.13.5\n",
      "25.5255111.3.5\n",
      "255.2.5.511135\n",
      "255.2.55.11135\n",
      "255.2.551.1135\n",
      "255.2.5511.135\n",
      "255.2.55111.35\n",
      "255.2.551113.5\n",
      "255.25.5.11135\n",
      "255.25.51.1135\n",
      "255.25.511.135\n",
      "255.25.5111.35\n",
      "255.25.51113.5\n",
      "255.255.1.1135\n",
      "255.255.11.135\n",
      "255.255.111.35\n",
      "255.255.1113.5\n",
      "255.2551.1.135\n",
      "255.2551.11.35\n",
      "255.2551.113.5\n",
      "255.25511.1.35\n",
      "255.25511.13.5\n",
      "255.255111.3.5\n",
      "2552.5.5.11135\n",
      "2552.5.51.1135\n",
      "2552.5.511.135\n",
      "2552.5.5111.35\n",
      "2552.5.51113.5\n",
      "2552.55.1.1135\n",
      "2552.55.11.135\n",
      "2552.55.111.35\n",
      "2552.55.1113.5\n",
      "2552.551.1.135\n",
      "2552.551.11.35\n",
      "2552.551.113.5\n",
      "2552.5511.1.35\n",
      "2552.5511.13.5\n",
      "2552.55111.3.5\n",
      "25525.5.1.1135\n",
      "25525.5.11.135\n",
      "25525.5.111.35\n",
      "25525.5.1113.5\n",
      "25525.51.1.135\n",
      "25525.51.11.35\n",
      "25525.51.113.5\n",
      "25525.511.1.35\n",
      "25525.511.13.5\n",
      "25525.5111.3.5\n",
      "255255.1.1.135\n",
      "255255.1.11.35\n",
      "255255.1.113.5\n",
      "255255.11.1.35\n",
      "255255.11.13.5\n",
      "255255.111.3.5\n",
      "2552551.1.1.35\n",
      "2552551.1.13.5\n",
      "2552551.11.3.5\n",
      "25525511.1.3.5\n",
      "[]\n",
      "2.5.5.05011536\n",
      "2.5.50.5011536\n",
      "2.5.505.011536\n",
      "2.5.5050.11536\n",
      "2.5.50501.1536\n",
      "2.5.505011.536\n",
      "2.5.5050115.36\n",
      "2.5.50501153.6\n",
      "2.55.0.5011536\n",
      "2.55.05.011536\n",
      "2.55.050.11536\n",
      "2.55.0501.1536\n",
      "2.55.05011.536\n",
      "2.55.050115.36\n",
      "2.55.0501153.6\n",
      "2.550.5.011536\n",
      "2.550.50.11536\n",
      "2.550.501.1536\n",
      "2.550.5011.536\n",
      "2.550.50115.36\n",
      "2.550.501153.6\n",
      "2.5505.0.11536\n",
      "2.5505.01.1536\n",
      "2.5505.011.536\n",
      "2.5505.0115.36\n",
      "2.5505.01153.6\n",
      "2.55050.1.1536\n",
      "2.55050.11.536\n",
      "2.55050.115.36\n",
      "2.55050.1153.6\n",
      "2.550501.1.536\n",
      "2.550501.15.36\n",
      "2.550501.153.6\n",
      "2.5505011.5.36\n",
      "2.5505011.53.6\n",
      "2.55050115.3.6\n",
      "25.5.0.5011536\n",
      "25.5.05.011536\n",
      "25.5.050.11536\n",
      "25.5.0501.1536\n",
      "25.5.05011.536\n",
      "25.5.050115.36\n",
      "25.5.0501153.6\n",
      "25.50.5.011536\n",
      "25.50.50.11536\n",
      "25.50.501.1536\n",
      "25.50.5011.536\n",
      "25.50.50115.36\n",
      "25.50.501153.6\n",
      "25.505.0.11536\n",
      "25.505.01.1536\n",
      "25.505.011.536\n",
      "25.505.0115.36\n",
      "25.505.01153.6\n",
      "25.5050.1.1536\n",
      "25.5050.11.536\n",
      "25.5050.115.36\n",
      "25.5050.1153.6\n",
      "25.50501.1.536\n",
      "25.50501.15.36\n",
      "25.50501.153.6\n",
      "25.505011.5.36\n",
      "25.505011.53.6\n",
      "25.5050115.3.6\n",
      "255.0.5.011536\n",
      "255.0.50.11536\n",
      "255.0.501.1536\n",
      "255.0.5011.536\n",
      "255.0.50115.36\n",
      "255.0.501153.6\n",
      "255.05.0.11536\n",
      "255.05.01.1536\n",
      "255.05.011.536\n",
      "255.05.0115.36\n",
      "255.05.01153.6\n",
      "255.050.1.1536\n",
      "255.050.11.536\n",
      "255.050.115.36\n",
      "255.050.1153.6\n",
      "255.0501.1.536\n",
      "255.0501.15.36\n",
      "255.0501.153.6\n",
      "255.05011.5.36\n",
      "255.05011.53.6\n",
      "255.050115.3.6\n",
      "2550.5.0.11536\n",
      "2550.5.01.1536\n",
      "2550.5.011.536\n",
      "2550.5.0115.36\n",
      "2550.5.01153.6\n",
      "2550.50.1.1536\n",
      "2550.50.11.536\n",
      "2550.50.115.36\n",
      "2550.50.1153.6\n",
      "2550.501.1.536\n",
      "2550.501.15.36\n",
      "2550.501.153.6\n",
      "2550.5011.5.36\n",
      "2550.5011.53.6\n",
      "2550.50115.3.6\n",
      "25505.0.1.1536\n",
      "25505.0.11.536\n",
      "25505.0.115.36\n",
      "25505.0.1153.6\n",
      "25505.01.1.536\n",
      "25505.01.15.36\n",
      "25505.01.153.6\n",
      "25505.011.5.36\n",
      "25505.011.53.6\n",
      "25505.0115.3.6\n",
      "255050.1.1.536\n",
      "255050.1.15.36\n",
      "255050.1.153.6\n",
      "255050.11.5.36\n",
      "255050.11.53.6\n",
      "255050.115.3.6\n",
      "2550501.1.5.36\n",
      "2550501.1.53.6\n",
      "2550501.15.3.6\n",
      "25505011.5.3.6\n",
      "[]\n"
     ]
    }
   ],
   "source": [
    "#Code here\n",
    "A = \"25525511135\"\n",
    "B = \"25505011536\"\n",
    "\n",
    "def is_valid(ip):\n",
    "    \n",
    "    #spliting by \".\"\n",
    "    ip=ip.split(\".\")\n",
    "    \n",
    "\n",
    "    for i in ip:\n",
    "        if (len(i) > 3 or int(i) < 0 or int (i) > 255):\n",
    "            return False\n",
    "        \n",
    "        if (len(i) > 1 and int(i) !=0):\n",
    "            return False\n",
    "        if (len(i) > 1 and int(i) !=0 and i[0]==\"0\"):\n",
    "            return False\n",
    "        \n",
    "    return True\n",
    "\n",
    "\n",
    "\n",
    "def convert(s):\n",
    "    sz = len(s)\n",
    "    \n",
    "    # check for string size\n",
    "    \n",
    "    if sz > 12:\n",
    "        return []\n",
    "    \n",
    "    snew = s\n",
    "    l = []\n",
    "    \n",
    "    \n",
    "    for i in range (1,sz-2):\n",
    "        for j in range(i +1,sz-1):\n",
    "            for k in range(j +1,sz):\n",
    "                snew=snew[:k] + \".\" + snew[k:]\n",
    "                snew = snew[:j] + \".\" + snew[j:]\n",
    "                snew = snew[:i] + \".\" + snew[i:]\n",
    "                print(snew)\n",
    "                \n",
    "                if is_valid(snew):\n",
    "                    l.append(snew)\n",
    "                    \n",
    "                snew=s\n",
    "                \n",
    "    return l\n",
    "\n",
    " \n",
    "# Check your code with below numbers    \n",
    "A = \"25525511135\"\n",
    "B = \"25505011536\"\n",
    " \n",
    "print(convert(A))\n",
    "print(convert(B))"
   ]
  },
  {
   "cell_type": "markdown",
   "metadata": {
    "id": "FukrdAXMWtgT"
   },
   "source": [
    "8. Solve the quadratic equation ax**2 + bx + c = 0 where a =4, b=6, c=2"
   ]
  },
  {
   "cell_type": "code",
   "execution_count": 2,
   "metadata": {
    "id": "wL1sWuYLWtgT",
    "outputId": "dc612942-4179-4f08-ff96-9ff8318109f3"
   },
   "outputs": [
    {
     "name": "stdout",
     "output_type": "stream",
     "text": [
      "The solution are (-1+0j) and (-0.5+0j)\n"
     ]
    }
   ],
   "source": [
    "#code here\n",
    "import cmath\n",
    "\n",
    "a = 4\n",
    "b = 6\n",
    "c = 2\n",
    "\n",
    "# calculate the discriminant\n",
    "d = (b**2) - (4*a*c)\n",
    "\n",
    "# find two solutions\n",
    "sol1 = (-b-cmath.sqrt(d))/(2*a)\n",
    "sol2 = (-b+cmath.sqrt(d))/(2*a)\n",
    "\n",
    "print('The solution are {0} and {1}'.format(sol1,sol2))"
   ]
  },
  {
   "cell_type": "markdown",
   "metadata": {
    "id": "6vngA60DWtgT"
   },
   "source": [
    "9. Write a program to Remove Punctuations From a String \n",
    "\n",
    "s=\"Wow!!!, we are going ahead with our course to learn *machine learning* ---are'nt you excited? :)\""
   ]
  },
  {
   "cell_type": "code",
   "execution_count": 5,
   "metadata": {
    "id": "gvQfy5kQWtgT",
    "outputId": "377ba105-858a-47b6-b2a8-06035f840a89"
   },
   "outputs": [
    {
     "name": "stdout",
     "output_type": "stream",
     "text": [
      "Wow we are going ahead with our course to learn machine learning arent you excited \n"
     ]
    }
   ],
   "source": [
    "# code here\n",
    "\n",
    "string=\"Wow!!!, we are going ahead with our course to learn *machine learning* ---are'nt you excited? :)\"\n",
    "punch = '''!()-[]{};:'\"\\,<>./?@#$%^&*_~'''\n",
    "new_str=string\n",
    "for i in string:\n",
    "    if i in punch:\n",
    "        new_str=new_str.replace(i,\"\")\n",
    "print(new_str)"
   ]
  },
  {
   "cell_type": "markdown",
   "metadata": {
    "id": "aCJgsvWKWtgU"
   },
   "source": [
    "10. Write a program which takes 2 digits, X,Y as input and generates a 2-dimensional array. The element value in the i-th row and j-th column of the array should be i*j.\n",
    "\n",
    "Note: i=0,1.., X-1; j=0,1,i^Y-1."
   ]
  },
  {
   "cell_type": "code",
   "execution_count": 8,
   "metadata": {
    "id": "BAh26WXlWtgU",
    "outputId": "64185e74-a436-4fe9-e519-0f43b5a9e1f2"
   },
   "outputs": [
    {
     "name": "stdout",
     "output_type": "stream",
     "text": [
      "[[0, 0, 0, 0], [0, 1, 2, 3], [0, 2, 4, 6]]\n"
     ]
    }
   ],
   "source": [
    "digit1=3\n",
    "digit2=4\n",
    "\n",
    "#code here\n",
    "mul_dim = [[0 for j in range(digit2)]for i in range(digit1)]\n",
    "\n",
    "for i in range(digit1):\n",
    "    for j in range(digit2):\n",
    "        mul_dim[i][j]=i*j\n",
    "print(mul_dim)"
   ]
  },
  {
   "cell_type": "markdown",
   "metadata": {
    "id": "sZrc0--VWtgV"
   },
   "source": [
    "11. For given string S and integers P and Q, which denotes the cost of removal of substrings “he” and “lo” respectively from S, the task is to find the maximum cost of removing all occurrences of substrings “he” and “lo”.\n",
    "\n",
    "example if S = “hellohellohellohellohello”, P = 6, Q = 4, then cost to remove 'he' and 'lo' is 50"
   ]
  },
  {
   "cell_type": "code",
   "execution_count": null,
   "metadata": {
    "id": "79BMmuVHWtgV",
    "outputId": "92a03381-e5b5-4392-b026-ee2344e93477"
   },
   "outputs": [
    {
     "name": "stdout",
     "output_type": "stream",
     "text": [
      "50\n"
     ]
    }
   ],
   "source": [
    "# code here\n",
    " \n",
    "def MaxCollecton(S,P,Q):\n",
    "    \n",
    "    maxstr = [i for i in (\"he\" if P >= Q else \"lo\")]\n",
    "    \n",
    "    minstr = [i for i in (\"lo\" if P >= Q else \"he\")]\n",
    "\n",
    "    maxp = max(P,Q)\n",
    "    \n",
    "    minp = min(P,Q)\n",
    "    \n",
    "    cost = 0\n",
    "# Check code with \n",
    "\n",
    "stack1 = []\n",
    "\n",
    "s = [i for i in S]\n",
    "\n",
    "\n",
    "for ch in s:\n",
    "    if (len(stack1)>0 and (stack1[-1]==maxstr[0] and ch ==maxstr[1])):\n",
    "        del stack1[-1]\n",
    "\n",
    "S = \"hellohellohellohellohello\"\n",
    "\n",
    "# Costs\n",
    "P = 6;\n",
    "Q = 4;\n",
    "\n",
    "\n",
    "\n",
    "\n",
    "\n",
    "print(MaxCollection(S, P, Q));"
   ]
  },
  {
   "cell_type": "markdown",
   "metadata": {
    "id": "tElaaNPNWtgV"
   },
   "source": [
    "12. Given a binary string S , the task is to find the smallest string possible by removing all occurrences of substrings “01” and “11”. After removal of any substring, concatenate the remaining parts of the string.\n",
    "\n",
    "Example\n",
    "    \n",
    "    Input: S = “0010110”\n",
    "    Output: String = 0\n",
    "    \n",
    "    Explanation: String can be transformed by the following steps: \n",
    "    0010110 → 00110 → 010 → 0. \n",
    "    Since no occurrence of substrings 01 and 11 are remaining, the string “0” is of minimum possible length 1."
   ]
  },
  {
   "cell_type": "code",
   "execution_count": 7,
   "metadata": {
    "id": "i9OIbWhoWtgV",
    "outputId": "2bf8df68-e064-4645-e0ad-4bbeded53525"
   },
   "outputs": [
    {
     "name": "stdout",
     "output_type": "stream",
     "text": [
      "The final string is: 0 \n"
     ]
    }
   ],
   "source": [
    "#code here\n",
    "\n",
    "def finalstring(s):\n",
    "    \n",
    "    while len(s) >= 2:\n",
    "        for i in range(len(s)):\n",
    "            if (s[i:i+2] ==\"01\") | (s[i:i+2] ==\"11\"):\n",
    "                s=s.replace(s[i:1+2],\"\")\n",
    "    return s\n",
    "\n",
    "#check code here\n",
    "    \n",
    "s=\"0010110\"\n",
    "\n",
    "print(\"The final string is: 0\",finalstring(s))\n",
    "# print(\"The final string size is: \",len(finalstring(s)))"
   ]
  },
  {
   "cell_type": "markdown",
   "metadata": {
    "id": "BYeCBfFUWtgV"
   },
   "source": [
    "13. Write a function such that it accepts two integers n, m as arguments Find the sum of all numbers in range from 1 to m(both inclusive) that are not divisible by n. Return difference between sum of integers not divisible by n with sum of numbers divisible by n\n",
    "\n",
    "Example\n",
    "\n",
    "    Input\n",
    "    n:4\n",
    "    m:20\n",
    "    Output\n",
    "    90"
   ]
  },
  {
   "cell_type": "code",
   "execution_count": 8,
   "metadata": {
    "id": "KgO9ShzPWtgV",
    "outputId": "a28e86fb-bf00-4182-84fe-432927211c79"
   },
   "outputs": [
    {
     "name": "stdout",
     "output_type": "stream",
     "text": [
      "60 and 150\n",
      "90\n"
     ]
    }
   ],
   "source": [
    "#code here\n",
    "\n",
    "n,m = 4,20\n",
    "sum1 = 0\n",
    "sum2 = 0\n",
    "\n",
    "for i in range(1,m+1):\n",
    "    if i% n ==0:\n",
    "        sum1+=i\n",
    "    else:\n",
    "        sum2 +=i\n",
    "        \n",
    "print(f\"{sum1} and {sum2}\")\n",
    "print((abs(sum2-sum1)))\n",
    "\n"
   ]
  },
  {
   "cell_type": "markdown",
   "metadata": {
    "id": "GMjx2bfxWtgW"
   },
   "source": [
    "14. Write a function count_code that return the number of times that the string \"code\" appears anywhere in the given string, except we'll accept any letter for the 'd', so \"cope\" and \"cooe\" count.\n",
    "\n",
    "\n",
    "    count_code('aaacodebbb') → 1\n",
    "    count_code('codexxcode') → 2\n",
    "    count_code('cozexxcope') → 2"
   ]
  },
  {
   "cell_type": "code",
   "execution_count": 9,
   "metadata": {
    "id": "7G1E7BewWtgW",
    "outputId": "83135aa0-09a5-4bd0-bb2b-ede2b1863a11"
   },
   "outputs": [
    {
     "name": "stdout",
     "output_type": "stream",
     "text": [
      "1\n",
      "2\n",
      "2\n"
     ]
    }
   ],
   "source": [
    "#code here\n",
    "\n",
    "def count_code(s):\n",
    "    alphabet = 'abcdefghijklmnopqrstuvwxyz'\n",
    "    total = 0\n",
    "    for letter in alphabet:\n",
    "        total += s.count('co'+letter+'e')\n",
    "    return total\n",
    "\n",
    "#check your code \n",
    "print(count_code('aaacodebbb'))\n",
    "print(count_code('codexxcode'))\n",
    "print(count_code('cozexxcope'))\n"
   ]
  },
  {
   "cell_type": "markdown",
   "metadata": {
    "id": "wqFNSGkCWtgW"
   },
   "source": [
    "15. Lets have one moderate level question for you. \n",
    "\n",
    "Find the sum of the series 4 +44 + 444 + 4444 + .. n terms\n",
    "\n",
    "here keep n=5"
   ]
  },
  {
   "cell_type": "code",
   "execution_count": 11,
   "metadata": {
    "id": "U4qRCUQFWtgW",
    "outputId": "8ba89e1f-0955-4f45-bf14-37d265710241"
   },
   "outputs": [
    {
     "name": "stdout",
     "output_type": "stream",
     "text": [
      "3+33+333\n"
     ]
    },
    {
     "data": {
      "text/plain": [
       "369"
      ]
     },
     "execution_count": 11,
     "metadata": {},
     "output_type": "execute_result"
    }
   ],
   "source": [
    "#code here\n",
    "\n",
    "def digit_sum(x):\n",
    "    lst = [str(x)*i for i in range(1,x+1)]\n",
    "    print('+'.join(lst))\n",
    "    return sum(map(int,lst))\n",
    "digit_sum(3)"
   ]
  },
  {
   "cell_type": "markdown",
   "metadata": {
    "id": "XH_ocrNWWtgY"
   },
   "source": [
    "16. Assume s is a string of lower case characters.\n",
    "<br>\n",
    "Write a program that counts up the number of vowels contained in the string s. Valid vowels are: 'a', 'e', 'i', 'o', and 'u'. For example, if s = 'azcbobobegghakl', your program should print:<br>\n",
    "```Number of vowels: 5```"
   ]
  },
  {
   "cell_type": "code",
   "execution_count": 12,
   "metadata": {
    "id": "7uCQTExKWtgY",
    "outputId": "0072b79d-2e7d-43d8-fcc7-4a945ee59e87"
   },
   "outputs": [
    {
     "name": "stdout",
     "output_type": "stream",
     "text": [
      "Number of vowels: 5\n"
     ]
    }
   ],
   "source": [
    "#code here\n",
    "s = 'azcbobobegghakl'\n",
    "count = 0\n",
    "vowels = list(\"aeiou\")\n",
    "for i in s:\n",
    "    if i in vowels:\n",
    "        count = count+1\n",
    "\n",
    "print(\"Number of vowels:\",count)\n"
   ]
  },
  {
   "cell_type": "markdown",
   "metadata": {
    "id": "ENqZvqo0WtgY"
   },
   "source": [
    "17. well done. Now we want you to solve above question in just one line. have faith in your, you can do it. "
   ]
  },
  {
   "cell_type": "code",
   "execution_count": 22,
   "metadata": {
    "id": "SQaBwDqNWtgY",
    "outputId": "83c9d20a-e738-463b-ea9f-04753ccfded6"
   },
   "outputs": [
    {
     "data": {
      "text/plain": [
       "5"
      ]
     },
     "execution_count": 22,
     "metadata": {},
     "output_type": "execute_result"
    }
   ],
   "source": [
    "# one line code here.\n",
    "\n",
    "sum([1 for i in s if i in vowels])\n"
   ]
  },
  {
   "cell_type": "markdown",
   "metadata": {
    "id": "qGWdX37AWtgY"
   },
   "source": [
    "18. Assume s is a string of lower case characters.\n",
    "\n",
    "Write a program that prints the number of times the string 'bob' occurs in s. For example, if s = 'azcbobobegghakl', then your program should print\n",
    "\n",
    "```Number of times bob occurs is: 2```"
   ]
  },
  {
   "cell_type": "code",
   "execution_count": 16,
   "metadata": {
    "id": "BfY-AJBOWtgZ",
    "outputId": "99f40895-5738-4bb1-e561-41e6fc68c743"
   },
   "outputs": [
    {
     "name": "stdout",
     "output_type": "stream",
     "text": [
      "Number of times bob occurs is: 2\n"
     ]
    }
   ],
   "source": [
    "#code here\n",
    "\n",
    "\n",
    "from re import findall\n",
    "\n",
    "l=len(findall(\"(?=bob)\",s))\n",
    "print('Number of times bob occurs is:',l)"
   ]
  },
  {
   "cell_type": "markdown",
   "metadata": {
    "id": "z7Phv1OxWtgZ"
   },
   "source": [
    "19. Assume s is a string of lower case characters.\n",
    "\n",
    "Write a program that prints the longest substring of s in which the letters occur in alphabetical order. For example, if s = 'azcbobobegghakl', then your program should print\n",
    "\n",
    "```Longest substring in alphabetical order is: beggh```<br><br>\n",
    "In the case of ties, print the first substring. For example, if s = 'abcbcd', then your program should print\n",
    "\n",
    "```Longest substring in alphabetical order is: abc```"
   ]
  },
  {
   "cell_type": "code",
   "execution_count": 23,
   "metadata": {
    "id": "v2UD_kZDWtgZ",
    "outputId": "26093eba-c07c-49be-eb04-4d4cdeb6ae6e"
   },
   "outputs": [
    {
     "name": "stdout",
     "output_type": "stream",
     "text": [
      "['a', 'z']\n",
      "[]\n",
      "['o']\n",
      "['o']\n",
      "['e', 'g', 'g', 'h']\n",
      "final ['k', 'l']\n",
      "Longest substring in alphabetical order is: eggh\n"
     ]
    }
   ],
   "source": [
    "#code here\n",
    "\n",
    "s = 'azcbobobegghakl'\n",
    "\n",
    "def alphbetical_substring(word):\n",
    "    current_sequence=[]\n",
    "    last_letter =''\n",
    "    \n",
    "    for letter in word:\n",
    "        if letter >=last_letter:\n",
    "            current_sequence.append(letter)\n",
    "        else:\n",
    "            print(current_sequence)\n",
    "            yield ''.join(current_sequence)\n",
    "            current_sequence=[]\n",
    "            \n",
    "        last_letter=letter\n",
    "    print('final',current_sequence)\n",
    "    \n",
    "    if current_sequence:\n",
    "        yield ''.join(current_sequence)\n",
    "\n",
    "def longest_value(word):\n",
    "    return max(alphbetical_substring(word),key=len)\n",
    "\n",
    "l=longest_value(s)\n",
    "print('Longest substring in alphabetical order is:',l)"
   ]
  },
  {
   "cell_type": "markdown",
   "metadata": {
    "id": "O03DVclUWtgZ"
   },
   "source": [
    "Awsesome! Great job so far. Hope you fell in love with python now.\n",
    "\n",
    "\n",
    "But wait we want to give a treat..:) We have a surprise for you in form of one of the task, in this task you have to create a game in python. You can take up this task as a mini project of your's in python. Hmm.. Sounds good. Isn't it?\n",
    "\n",
    "So lets gets started.. we have given the instructions below for the task in detail \n",
    "\n",
    "# Hangman Game\n",
    "## In this project we are going to create Hangman Game using python\n",
    "\n",
    "\n",
    "**Q. What is the hangman game?**<br>\n",
    "A:- Hangman is a guessing game. The player will tries to guess a word picked by the computer, by suggesting letters within a certain number of guesses\n",
    "\n",
    "\n",
    "# Task 1\n",
    "Create a function **is_word_guessed** that takes in two arguments :- <br> **secret_word**, **letters_guessed** <br>**returns True** if all of the letter of secret_word are in letters_guessed, **returns False** if not\n",
    "\n",
    "\n",
    "**Assumptions**<br>\n",
    "**secret_word**: string, the word the user is guessing; assumes all letters are lowercase<br>\n",
    "**letters_guessed**: list (of letters), which letters have been guessed so far; assumes that all letters are lowercase<br>\n",
    "\n",
    "**Example**:-<br> \n",
    "secret_word = 'apple'<br>\n",
    "letters_guessed = ['e', 'a', 'k', 'p', 'l', 's']<br>\n",
    "is_word_guessed() will return True.<br><br> \n",
    "secret_word = 'apple'<br>\n",
    "letters_guessed = ['e', 'i', 'k', 'p', 'r', 's']<br>\n",
    "is_word_guessed() will return False.<br><br> \n",
    "\n",
    "\n",
    "\n"
   ]
  },
  {
   "cell_type": "markdown",
   "metadata": {
    "id": "3cr3up4t-bZv"
   },
   "source": [
    "### **`Watch Video 17: Hangman Tutorial`**"
   ]
  },
  {
   "cell_type": "code",
   "execution_count": 24,
   "metadata": {
    "id": "f20UadoKWtgZ"
   },
   "outputs": [],
   "source": [
    "def is_word_guessed(secret_word, letters_guessed):\n",
    "    \n",
    "    temp = 0\n",
    "    \n",
    "    for word in secret_code:\n",
    "        if word not in letters_guesed:\n",
    "            temp= -1\n",
    "            break\n",
    "            \n",
    "    if temp == 0:\n",
    "        return True\n",
    "    else:\n",
    "        return False\n",
    "    "
   ]
  },
  {
   "cell_type": "markdown",
   "metadata": {
    "id": "fuaxxaOYWtgZ"
   },
   "source": [
    "# Task 2\n",
    "Create a function **get_guessed_word** that takes in two arguments :-<br> **secret_word**, **letters_guessed** <br>**returns** string, comprised of known letters, and unknown letters represented by an underscore and a space (_ )<br>\n",
    "\n",
    "**Assumptions**<br>\n",
    "**secret_word**: string, the word the user is guessing;<br>\n",
    "**letters_guessed**: list (of letters), which letters have been guessed so far<br>\n",
    "\n",
    "**Example**:-<br>\n",
    "secret_word = 'apple'<br>\n",
    "letters_guessed = ['e', 'i', 'k', 'p', 'r', 's']<br>\n",
    "get_guessed_word() will return '_ pp_ e'\n",
    "\n",
    "```\n",
    "You want something like a_ _ _ d_ j and Not a___d_j,\n",
    "which might make it hard for the user to know how many characters are there to be guessed, \n",
    "that's why you want to use '_ ' instead of '_'\n",
    "```"
   ]
  },
  {
   "cell_type": "code",
   "execution_count": null,
   "metadata": {
    "id": "lgZOCOV7Wtga"
   },
   "outputs": [],
   "source": [
    "# importing modules needed for the project\n",
    "import random\n",
    "import string\n",
    "\n",
    "def get_guessed_word(secret_word, letters_guessed):\n",
    "    \n",
    "    \n"
   ]
  },
  {
   "cell_type": "markdown",
   "metadata": {
    "id": "n-FFgeOXWtga"
   },
   "source": [
    "# Task 3\n",
    "\n",
    "Create a function **get_available_letter** that takes in one arguments <br> **letters_guessed** <br>**returns** string (of letters), comprised of letters that represents which letters have not yet been guessed.\n",
    "\n",
    "**Assumptions**<br>\n",
    "**letters_guessed**: list (of letters), which letters have been guessed so far;<br>\n",
    "\n",
    "**Example**:-<br>\n",
    "letters_guessed = [’a’, ’l’, ’m’]<br>\n",
    "get_available_letter() will return 'bcdefghijknopqrstuvwxyz'<br>\n",
    "```\n",
    "You might want to consider using string.ascii_lowercase :=\n",
    "\n",
    "import string\n",
    "print(string.ascii_lowercase)\n",
    "output:- abcdefghijklmnopqrstuvwxyz\n",
    "```"
   ]
  },
  {
   "cell_type": "code",
   "execution_count": null,
   "metadata": {
    "id": "O0Ru7FUsWtga"
   },
   "outputs": [],
   "source": [
    "\n",
    "def get_available_letters(letters_guessed):\n",
    "    '''\n",
    "    letters_guessed: list (of letters), which letters have been guessed so far\n",
    "    returns: string (of letters), comprised of letters that represents which letters have not\n",
    "      yet been guessed.\n",
    "    '''\n",
    "    # FILL IN YOUR CODE HERE \n",
    "    \n",
    "    "
   ]
  },
  {
   "cell_type": "markdown",
   "metadata": {
    "id": "jQJszStcWtga"
   },
   "source": [
    "### Great, We have created all of the Helper functions, now let's start our work on the actual Hangman Game\n",
    "\n",
    "# Hangman Game\n",
    "\n",
    "Create a function **hangman** that takes in one argument<br>\n",
    "**secret_word** :- string, the secret word to guess.<br>\n",
    "\n",
    "**The function should do the following**:-<br>\n",
    "Starts up an interactive game of Hangman.\n",
    "\n",
    "* At the start of the game, let the user know how many letters the secret_word contains and how many guesses s/he starts with.\n",
    "\n",
    "* The user should start with 6 guesses\n",
    "\n",
    "* Before each round, you should display to the user how many guesses s/he has left and the letters that the user has not yet guessed.\n",
    "\n",
    "* Ask the user to supply one guess per round. Remember to make sure that the user puts in a letter!\n",
    "\n",
    "* The user should receive feedback immediately after each guess about whether their guess appears in the computer's word.\n",
    "\n",
    "* After each guess, you should display to the user the partially guessed word so far.\n",
    "\n",
    "* If the user inputs a letter that hasn’t been guessed before and the letter is in the secret word, the user loses no guesses.\n",
    "\n",
    "* Consonants: If the user inputs a consonant that hasn’t been guessed and the consonant is not in the secret word, the user loses one guess if it’s a consonant.\n",
    "* Vowels: If the vowel hasn’t been guessed and the vowel is not in the secret word, the user loses two guesses. Vowels are a, e, i, o, and u. y does not count as a vowel.\n",
    "\n",
    "* The game should end when the user constructs the full word or runs out of guesses.\n",
    "* If the player runs out of guesses before completing the word, tell them they lost and reveal the word to the user when the game ends.\n",
    "* If the user wins, print a congratulatory message and tell the user their score.\n",
    "* The total score is the number of guesses_remaining once the user has guessed the secret_word times the number of unique letters in secret_word.\n",
    "```\n",
    "Total score = guesses_remaining * number unique letters in secret_word\n",
    "```"
   ]
  },
  {
   "cell_type": "markdown",
   "metadata": {
    "id": "NLlYCU26Wtga"
   },
   "source": [
    "## Demo Game 1\n",
    "```\n",
    "Welcome to the game Hangman!\n",
    "I am thinking of a word that is 4 letters long.\n",
    "-------------\n",
    "You have 6 guesses left.\n",
    "Available letters: abcdefghijklmnopqrstuvwxyz\n",
    "Please guess a letter: ​a\n",
    "Good guess: _ a_ _\n",
    "------------\n",
    "You have 6 guesses left.\n",
    "Available letters: bcdefghijklmnopqrstuvwxyz\n",
    "Please guess a letter: ​s\n",
    "Oops! That letter is not in my word.\n",
    "Please guess a letter: _ a_ _\n",
    "------------\n",
    "You have 5 guesses left.\n",
    "Available letters: bcdefghijklmnopqrtuvwxyz\n",
    "Please guess a letter: ​t\n",
    "Good guess: ta_ t\n",
    "------------\n",
    "You have 5 guesses left.\n",
    "Available letters: bcdefghijklmnopqrtuvwxyz\n",
    "Please guess a letter: ​e\n",
    "Oops! That letter is not in my word: ta_ t\n",
    "------------\n",
    "You have 3 guesses left.\n",
    "Available letters: bcdfghijklnopquvwxyz Please guess a letter: ​c\n",
    "Good guess: tact\n",
    "------------\n",
    "Congratulations, you won!\n",
    "Your total score for this game is: 6\n",
    "```"
   ]
  },
  {
   "cell_type": "markdown",
   "metadata": {
    "id": "LvPe95WxWtga"
   },
   "source": [
    "## Demo Game 2\n",
    "```\n",
    "Welcome to the game Hangman!\n",
    "I am thinking of a word that is 4 letters long\n",
    "-----------\n",
    "You have 6 guesses left\n",
    "Available Letters: abcdefghijklmnopqrstuvwxyz\n",
    "Please guess a letter: ​a\n",
    "Oops! That letter is not in my word: _ _ _ _\n",
    "-----------\n",
    "You have 4 guesses left\n",
    "Available Letters: bcdefghijklmnopqrstuvwxyz\n",
    "Please guess a letter: ​b\n",
    "Oops! That letter is not in my word: _ _ _ _\n",
    "-----------\n",
    "You have 3 guesses left\n",
    "Available Letters: cdefghijklmnopqrstuvwxyz\n",
    "Please guess a letter: ​c\n",
    "Oops! That letter is not in my word: _ _ _ _\n",
    "-----------\n",
    "You have 2 guesses left\n",
    "Available Letters: defghijklmnopqrstuvwxyz\n",
    "Please guess a letter: ​d\n",
    "Oops! That letter is not in my word: _ _ _ _\n",
    "-----------\n",
    "You have 1 guesses left\n",
    "Available Letters: efghijklmnopqrstuvwxyz\n",
    "Please guess a letter: ​e\n",
    "Good guess: e_ _ e\n",
    "-----------\n",
    "You have 1 guesses left\n",
    "Available Letters: fghijklmnopqrstuvwxyz\n",
    "Please guess a letter: ​f\n",
    "Oops! That letter is not in my word: e_ _ e\n",
    "-----------\n",
    "Sorry, you ran out of guesses. The word was else.\n",
    "```"
   ]
  },
  {
   "cell_type": "markdown",
   "metadata": {
    "id": "oFs3nV8AWtgb"
   },
   "source": [
    "## Hints\n",
    "**Try to keep the output as similar to the one's above**<br>\n",
    "**Hints:-**\n",
    "```\n",
    "1. Consider writing additional helper functions if you need them.\n",
    "2. There are four important pieces of information you may wish to store:\n",
    "a. secret_word​: The word to guess. This is already used as the parameter name for the ​hangman​ function.\n",
    "b. letters_guessed​: The letters that have been guessed so far. If they guess a letter that is already in ​letters_guessed​, you should print a message telling them they've already guessed that but do not penalize them for it.\n",
    "c. guesses_remaining​: The number of guesses the user has left. Note that in our example game, the penalty for choosing an incorrect vowel is different than the penalty for choosing an incorrect consonant.\n",
    "```"
   ]
  },
  {
   "cell_type": "code",
   "execution_count": null,
   "metadata": {
    "id": "IlkkRBPFWtgb"
   },
   "outputs": [],
   "source": [
    "\n",
    "def no_of_unique_words(string):\n",
    "    #code here\n",
    "\n",
    "\n",
    "\n",
    "    \n",
    "    \n",
    "    \n",
    "def hangman(secret_word):\n",
    "    #code here\n"
   ]
  },
  {
   "cell_type": "code",
   "execution_count": null,
   "metadata": {
    "id": "rqr36B-BWtgb",
    "outputId": "395d6dda-1293-4455-8043-e179778634e9"
   },
   "outputs": [
    {
     "name": "stdout",
     "output_type": "stream",
     "text": [
      "Welcome to the game Hangman!\n",
      "I am thinking of a word that is 5 letters long.\n",
      " -----------------------------------\n",
      "You have 6 guesses left.\n",
      "Available letters: abcdefghijklmnopqrstuvwxyz\n",
      "Please guess a letter: a\n",
      "Good guess: a_ _ _ _ \n",
      " -----------------------------------\n",
      "You have 6 guesses left.\n",
      "Available letters: bcdefghijklmnopqrstuvwxyz\n",
      "Please guess a letter: a\n",
      "You've already guessed that letter\n",
      " -----------------------------------\n",
      "You have 6 guesses left.\n",
      "Available letters: bcdefghijklmnopqrstuvwxyz\n",
      "Please guess a letter: c\n",
      "Oops! That letter is not in my word: a_ _ _ _ \n",
      " -----------------------------------\n",
      "You have 5 guesses left.\n",
      "Available letters: bdefghijklmnopqrstuvwxyz\n",
      "Please guess a letter: d\n",
      "Oops! That letter is not in my word: a_ _ _ _ \n",
      " -----------------------------------\n",
      "You have 4 guesses left.\n",
      "Available letters: befghijklmnopqrstuvwxyz\n",
      "Please guess a letter: e\n",
      "Good guess: a_ _ _ e\n",
      " -----------------------------------\n",
      "You have 4 guesses left.\n",
      "Available letters: bfghijklmnopqrstuvwxyz\n",
      "Please guess a letter: f\n",
      "Oops! That letter is not in my word: a_ _ _ e\n",
      " -----------------------------------\n",
      "You have 3 guesses left.\n",
      "Available letters: bghijklmnopqrstuvwxyz\n",
      "Please guess a letter: g\n",
      "Oops! That letter is not in my word: a_ _ _ e\n",
      " -----------------------------------\n",
      "You have 2 guesses left.\n",
      "Available letters: bhijklmnopqrstuvwxyz\n",
      "Please guess a letter: h\n",
      "Oops! That letter is not in my word: a_ _ _ e\n",
      " -----------------------------------\n",
      "You have 1 guesses left.\n",
      "Available letters: bijklmnopqrstuvwxyz\n",
      "Please guess a letter: i\n",
      "Oops! That letter is not in my word: a_ _ _ e\n",
      " -----------------------------------\n"
     ]
    }
   ],
   "source": [
    "# When you've completed your hangman function, test it out to see it is working fine\n",
    "# (hint: you might want to pick your own\n",
    "# secret_word while you're doing your own testing by changing 'apple' to any other string)\n",
    "hangman('apple')"
   ]
  },
  {
   "cell_type": "markdown",
   "metadata": {
    "id": "ayutll31Wtgc"
   },
   "source": [
    "## Congratulations all of your hardwork paid of, you have just created the Hangman Game<br>\n",
    "**now go ahead and play the game you created, run the cell below**\n",
    "\n"
   ]
  },
  {
   "cell_type": "code",
   "execution_count": null,
   "metadata": {
    "id": "OXfcylbvWtgc",
    "outputId": "cc0f524a-37cc-4cda-a9c6-63122a662f87"
   },
   "outputs": [
    {
     "name": "stdout",
     "output_type": "stream",
     "text": [
      "Welcome to the game Hangman!\n",
      "I am thinking of a word that is 7 letters long.\n",
      " -----------------------------------\n",
      "You have 6 guesses left.\n",
      "Available letters: abcdefghijklmnopqrstuvwxyz\n",
      "Please guess a letter: j\n",
      "Oops! That letter is not in my word: _ _ _ _ _ _ _ \n",
      " -----------------------------------\n",
      "You have 5 guesses left.\n",
      "Available letters: abcdefghiklmnopqrstuvwxyz\n",
      "Please guess a letter: k\n",
      "Oops! That letter is not in my word: _ _ _ _ _ _ _ \n",
      " -----------------------------------\n",
      "You have 4 guesses left.\n",
      "Available letters: abcdefghilmnopqrstuvwxyz\n",
      "Please guess a letter: l\n",
      "Oops! That letter is not in my word: _ _ _ _ _ _ _ \n",
      " -----------------------------------\n",
      "You have 3 guesses left.\n",
      "Available letters: abcdefghimnopqrstuvwxyz\n",
      "Please guess a letter: m\n",
      "Oops! That letter is not in my word: _ _ _ _ _ _ _ \n",
      " -----------------------------------\n",
      "You have 2 guesses left.\n",
      "Available letters: abcdefghinopqrstuvwxyz\n",
      "Please guess a letter: o\n",
      "Oops! That letter is not in my word: _ _ _ _ _ _ _ \n",
      " -----------------------------------\n",
      "Sorry, you ran out of guesses. The word was between\n"
     ]
    }
   ],
   "source": [
    "words = ['army', 'beautiful', 'became', 'if', 'actually', 'beside', 'between','come','eye','five','fur','imposter', 'problem' ,'revenge' ,'few' ,'circle' ,'district','trade','quota','stop','depressed','disorder','dentist']\n",
    "\n",
    "#choose a random word from list using random.choice() function\n",
    "random_word = \n",
    "\n",
    "#check you function\n",
    "hangman(random_word)"
   ]
  },
  {
   "cell_type": "markdown",
   "metadata": {
    "id": "62faCBcTWtgc"
   },
   "source": [
    "--------------------------------------\n",
    "Wohooo! You did a really good job. We hope you enjoyed your first mini python project here. \n",
    "\n",
    "We understand it was bit challenging and time taking, but it's worth it, coz here you are to achieve your goal and this course will help you in all posible way to make your dreams come true.\n",
    "\n"
   ]
  },
  {
   "cell_type": "markdown",
   "metadata": {
    "id": "8p3Ruyw6Wtgc"
   },
   "source": [
    "\n",
    "\n",
    "----------------------------------------------------------------------"
   ]
  },
  {
   "cell_type": "markdown",
   "metadata": {
    "id": "JiGSsuwaWtgd"
   },
   "source": [
    "# Bam!, you completed the second milestone challenge too:)!! "
   ]
  },
  {
   "cell_type": "markdown",
   "metadata": {
    "id": "ME6IJ3pOWtgd"
   },
   "source": [
    "# FeedBack\n",
    "We hope you’ve enjoyed this course so far. We’re committed to help you use \"AI for All\" course to its full potential, so that you have a great learning experience. And that’s why we need your help in form of a feedback here.\n",
    "\n",
    "Please fill this feedback form https://docs.google.com/forms/d/e/1FAIpQLSfjBmH0yJSSA34IhSVx4h2eDMgOAeG4Dk-yHid__NMTk3Hq5g/viewform"
   ]
  },
  {
   "cell_type": "code",
   "execution_count": 17,
   "metadata": {},
   "outputs": [
    {
     "name": "stdout",
     "output_type": "stream",
     "text": [
      "HDHHDHD20.78\n"
     ]
    }
   ],
   "source": [
    "a= \"HDHHDHD{N:.2f}\"\n",
    "print(a.format(N=20.7811))"
   ]
  },
  {
   "cell_type": "code",
   "execution_count": 23,
   "metadata": {},
   "outputs": [
    {
     "name": "stdout",
     "output_type": "stream",
     "text": [
      "00000 hello\n"
     ]
    }
   ],
   "source": [
    "print(\"0\"*5,end=\" \")\n",
    "print(\"hello\")"
   ]
  },
  {
   "cell_type": "code",
   "execution_count": null,
   "metadata": {},
   "outputs": [],
   "source": []
  }
 ],
 "metadata": {
  "colab": {
   "collapsed_sections": [],
   "provenance": []
  },
  "kernelspec": {
   "display_name": "Python 3 (ipykernel)",
   "language": "python",
   "name": "python3"
  },
  "language_info": {
   "codemirror_mode": {
    "name": "ipython",
    "version": 3
   },
   "file_extension": ".py",
   "mimetype": "text/x-python",
   "name": "python",
   "nbconvert_exporter": "python",
   "pygments_lexer": "ipython3",
   "version": "3.9.13"
  }
 },
 "nbformat": 4,
 "nbformat_minor": 1
}
